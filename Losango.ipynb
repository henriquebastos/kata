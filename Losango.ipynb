{
 "cells": [
  {
   "cell_type": "markdown",
   "metadata": {
    "slideshow": {
     "slide_type": "skip"
    }
   },
   "source": [
    "# Losango\n",
    "\n",
    "## Autor\n",
    "\n",
    "[Henrique  Bastos](https://henriquebastos.net)\n",
    "\n",
    "\n",
    "\n",
    "Se conecte comigo nas redes:\n",
    "[YouTube](https://hbn.link/youtube_HB), [Facebook](https://hbn.link/fanpage_HB), [Twitter](https://hbn.link/twitter_HB), [Instagram](https://hbn.link/instagram_HB), [Whatsapp](https://hbn.link/hb-ajudae), [Telegram](https://t.me/henriquebastos), [Email](mailto:henrique@bastos.net)\n",
    "\n",
    "## Licença\n",
    "\n",
    "<img alt=\"Licença Creative Commons\" style=\"border-width:0; margin-left:0;\" src=\"https://i.creativecommons.org/l/by-sa/4.0/88x31.png\" />\n",
    "\n",
    "Este trabalho está licenciado com uma Licença [Creative Commons - Atribuição-CompartilhaIgual 4.0 Internacional](http://creativecommons.org/licenses/by-sa/4.0/)."
   ]
  },
  {
   "cell_type": "code",
   "execution_count": 1,
   "metadata": {
    "slideshow": {
     "slide_type": "skip"
    }
   },
   "outputs": [
    {
     "data": {
      "image/jpeg": "[encoded data removed]",
      "text/html": [
       "\n",
       "        <iframe\n",
       "            width=\"560\"\n",
       "            height=\"315\"\n",
       "            src=\"https://www.youtube.com/embed/eP1RCj8_ChE\"\n",
       "            frameborder=\"0\"\n",
       "            allowfullscreen\n",
       "        ></iframe>\n",
       "        "
      ],
      "text/plain": [
       "<IPython.lib.display.YouTubeVideo at 0x109d5b898>"
      ]
     },
     "execution_count": 1,
     "metadata": {},
     "output_type": "execute_result"
    }
   ],
   "source": [
    "from IPython.lib.display import YouTubeVideo\n",
    "YouTubeVideo('eP1RCj8_ChE', 560, 315)"
   ]
  },
  {
   "cell_type": "code",
   "execution_count": 2,
   "metadata": {
    "slideshow": {
     "slide_type": "skip"
    }
   },
   "outputs": [],
   "source": [
    "# setup\n",
    "from ipywidgets import interact"
   ]
  },
  {
   "cell_type": "markdown",
   "metadata": {
    "slideshow": {
     "slide_type": "slide"
    }
   },
   "source": [
    "# Introdução\n",
    "\n",
    "O André Bandeli postou uma dúvida no Facebook sobre [como construir um losango em texto](https://www.facebook.com/groups/python.brasil/permalink/1859488167489378/).\n",
    "\n",
    "Exemplo:\n",
    "\n",
    "```\n",
    "    0    \n",
    "   010   \n",
    "  01210  \n",
    " 0123210 \n",
    "012343210\n",
    " 0123210 \n",
    "  01210  \n",
    "   010   \n",
    "    0    \n",
    "```\n",
    "\n",
    "A dúvida dele era sobre como centralizar o `range` do Python para calcular cada linha."
   ]
  },
  {
   "cell_type": "markdown",
   "metadata": {
    "slideshow": {
     "slide_type": "slide"
    }
   },
   "source": [
    "# O Problema\n",
    "\n",
    "Esse desafio é o caso clássico onde ir direto no alvo é mais difícil do que comer pelas beiradas.\n",
    "\n",
    "```\n",
    "  0  \n",
    " 010 \n",
    "01210\n",
    " 010 \n",
    "  0   \n",
    "```"
   ]
  },
  {
   "cell_type": "markdown",
   "metadata": {
    "slideshow": {
     "slide_type": "fragment"
    }
   },
   "source": [
    "1. Ir direto vai fazer focar no output se perdendo em loops e manipulações de strings.\n",
    "2. Comer pelas beiradas implica em decompor o problema em problemas menores."
   ]
  },
  {
   "cell_type": "markdown",
   "metadata": {
    "slideshow": {
     "slide_type": "slide"
    }
   },
   "source": [
    "# Qual a estratégia?\n",
    "\n",
    "```\n",
    "..0..\n",
    ".010.\n",
    "01210\n",
    ".010.\n",
    "..0..\n",
    "```"
   ]
  },
  {
   "cell_type": "markdown",
   "metadata": {
    "slideshow": {
     "slide_type": "fragment"
    }
   },
   "source": [
    "1. Como centraliza os números na linha?\n",
    "2. Como cria o intervalo de 0...N...0?\n",
    "3. Como transforma o intervalo em texto?\n",
    "4. Como gera a linha a partir do intervalo?\n",
    "5. Como gera o losango com uma pilha de linhas?"
   ]
  },
  {
   "cell_type": "markdown",
   "metadata": {
    "slideshow": {
     "slide_type": "slide"
    }
   },
   "source": [
    "# Como centraliza os números?\n",
    "\n",
    "```\n",
    "..0..\n",
    ".010.\n",
    "01210\n",
    ".010.\n",
    "..0..\n",
    "```"
   ]
  },
  {
   "cell_type": "code",
   "execution_count": 3,
   "metadata": {
    "slideshow": {
     "slide_type": "skip"
    }
   },
   "outputs": [],
   "source": [
    "def centraliza(texto, largura):\n",
    "    '''Versão 1'''\n",
    "    margem = (largura - len(texto)) // 2\n",
    "    return ' ' * margem + texto + ' ' * margem\n",
    "\n",
    "\n",
    "def centraliza(texto, largura):\n",
    "    '''Versão 2'''\n",
    "    return texto.center(largura)\n",
    "\n",
    "\n",
    "def centraliza(texto, largura, separador=' '):\n",
    "    '''Versão 3'''\n",
    "    return f'{texto:{separador}^{largura}}'\n",
    "\n",
    "\n",
    "n = 2\n",
    "largura = n * 2 + 1\n",
    "assert centraliza('0', largura) == '  0  '\n",
    "assert centraliza('010', largura) == ' 010 '\n",
    "assert centraliza('01210', largura) == '01210'"
   ]
  },
  {
   "cell_type": "markdown",
   "metadata": {
    "slideshow": {
     "slide_type": "slide"
    }
   },
   "source": [
    "# Como cria o intervalo de 0...N...0?\n",
    "\n",
    "```\n",
    "..0..\n",
    ".010.\n",
    "01210\n",
    ".010.\n",
    "..0..\n",
    "```"
   ]
  },
  {
   "cell_type": "code",
   "execution_count": 4,
   "metadata": {
    "slideshow": {
     "slide_type": "skip"
    }
   },
   "outputs": [
    {
     "data": {
      "text/plain": [
       "True"
      ]
     },
     "execution_count": 4,
     "metadata": {},
     "output_type": "execute_result"
    }
   ],
   "source": [
    "def intervalo(n):\n",
    "    '''Versão 1'''\n",
    "    return list(range(n)) + list(range(n, -1, -1))\n",
    "\n",
    "\n",
    "def intervalo(n):\n",
    "    '''Versão 2'''\n",
    "    return [*range(n), *range(n, -1, -1)]\n",
    "\n",
    "assert intervalo(0) == [0]\n",
    "assert intervalo(1) == [0, 1, 0]\n",
    "assert intervalo(2) == [0, 1, 2, 1, 0]\n",
    "assert intervalo(9) == [0, 1, 2, 3, 4, 5, 6, 7, 8, 9, 8, 7, 6, 5, 4, 3, 2, 1, 0]\n",
    "\n",
    "\n",
    "list(range(0)) == []\n",
    "list(range(1)) == [0]\n",
    "list(range(2)) == [0, 1]"
   ]
  },
  {
   "cell_type": "markdown",
   "metadata": {
    "slideshow": {
     "slide_type": "slide"
    }
   },
   "source": [
    "# Como transforma o intervalo em texto?\n",
    "\n",
    "```\n",
    "..0..\n",
    ".010.\n",
    "01210\n",
    ".010.\n",
    "..0..\n",
    "```"
   ]
  },
  {
   "cell_type": "code",
   "execution_count": 5,
   "metadata": {
    "slideshow": {
     "slide_type": "skip"
    }
   },
   "outputs": [],
   "source": [
    "def texto(numeros):\n",
    "    '''Versão 1'''\n",
    "    l = []\n",
    "    for n in numeros:\n",
    "        l.append(str(n))\n",
    "    return ''.join(l)\n",
    "\n",
    "\n",
    "def texto(numeros):\n",
    "    '''Versão 2'''\n",
    "    return ''.join(str(n) for n in numeros)\n",
    "\n",
    "\n",
    "assert texto(intervalo(2)) == '01210'\n"
   ]
  },
  {
   "cell_type": "markdown",
   "metadata": {
    "slideshow": {
     "slide_type": "slide"
    }
   },
   "source": [
    "# Como gera a linha em texto a partir do intervalo?\n",
    "\n",
    "```\n",
    "..0..\n",
    ".010.\n",
    "01210\n",
    ".010.\n",
    "..0..\n",
    "```"
   ]
  },
  {
   "cell_type": "code",
   "execution_count": 7,
   "metadata": {
    "slideshow": {
     "slide_type": "-"
    }
   },
   "outputs": [],
   "source": [
    "def linha(n, largura, separador=' '):\n",
    "    return centraliza(texto(intervalo(n)), largura, separador)\n",
    "\n",
    "assert linha(0, 5) == '  0  '\n",
    "assert linha(3, 7) == '0123210'"
   ]
  },
  {
   "cell_type": "code",
   "execution_count": 8,
   "metadata": {
    "slideshow": {
     "slide_type": "-"
    }
   },
   "outputs": [
    {
     "data": {
      "application/vnd.jupyter.widget-view+json": {
       "model_id": "fdf5e628a90d4a1c8fd16a2b1f99b78b",
       "version_major": 2,
       "version_minor": 0
      },
      "text/plain": [
       "interactive(children=(IntSlider(value=4, description='n', max=9), IntSlider(value=9, description='largura', ma…"
      ]
     },
     "metadata": {},
     "output_type": "display_data"
    },
    {
     "data": {
      "text/plain": [
       "<function __main__.linha(n, largura, separador=' ')>"
      ]
     },
     "execution_count": 8,
     "metadata": {},
     "output_type": "execute_result"
    }
   ],
   "source": [
    "interact(linha, n=(0, 9, 1), largura=(0, 9*2+1, 1))"
   ]
  },
  {
   "cell_type": "markdown",
   "metadata": {
    "slideshow": {
     "slide_type": "slide"
    }
   },
   "source": [
    "# Como cria a pilha de linhas?\n",
    "\n",
    "```\n",
    "..0..\n",
    ".010.\n",
    "01210\n",
    ".010.\n",
    "..0..\n",
    "```"
   ]
  },
  {
   "cell_type": "code",
   "execution_count": 9,
   "metadata": {
    "slideshow": {
     "slide_type": "skip"
    }
   },
   "outputs": [
    {
     "data": {
      "application/vnd.jupyter.widget-view+json": {
       "model_id": "4bb0da5ef482428f8226d892a520ca9e",
       "version_major": 2,
       "version_minor": 0
      },
      "text/plain": [
       "interactive(children=(IntSlider(value=4, description='n', max=9), Output()), _dom_classes=('widget-interact',)…"
      ]
     },
     "metadata": {},
     "output_type": "display_data"
    },
    {
     "data": {
      "text/plain": [
       "<function __main__.<lambda>(n)>"
      ]
     },
     "execution_count": 9,
     "metadata": {},
     "output_type": "execute_result"
    }
   ],
   "source": [
    "def losango(n):\n",
    "    '''Versão 1'''\n",
    "    largura = n * 2 + 1\n",
    "\n",
    "    numeros = intervalo(n)\n",
    "    linhas = []\n",
    "    \n",
    "    for n in numeros:\n",
    "        linhas.append(linha(n, largura))\n",
    "\n",
    "    print('\\n'.join(linhas))\n",
    "\n",
    "\n",
    "def losango(n):\n",
    "    '''Versão 2'''\n",
    "    largura = n * 2 + 1\n",
    "    return '\\n'.join([linha(n, largura) for n in intervalo(n)])\n",
    "\n",
    "def losango(tamanho):\n",
    "    '''Versão 3'''\n",
    "    largura = tamanho * 2 + 1\n",
    "    return '\\n'.join(linha(n, largura) for n in intervalo(tamanho))\n",
    "\n",
    "\n",
    "assert losango(2) == (\n",
    "    '  0  \\n'\n",
    "    ' 010 \\n'\n",
    "    '01210\\n'\n",
    "    ' 010 \\n'\n",
    "    '  0  '\n",
    ")\n",
    "\n",
    "interact(lambda n: print(losango(n)), n=(0, 9, 1))"
   ]
  },
  {
   "cell_type": "markdown",
   "metadata": {
    "slideshow": {
     "slide_type": "slide"
    }
   },
   "source": [
    "# Como fica tudo junto?"
   ]
  },
  {
   "cell_type": "code",
   "execution_count": 10,
   "metadata": {
    "slideshow": {
     "slide_type": "-"
    }
   },
   "outputs": [],
   "source": [
    "def intervalo(n):\n",
    "    return (*range(n), *range(n, -1, -1))\n",
    "\n",
    "\n",
    "def centraliza(texto, largura, separador=' '):\n",
    "    return f'{texto:{separador}^{largura}}'\n",
    "\n",
    "\n",
    "def texto(numeros):\n",
    "    return ''.join(str(n) for n in numeros)\n",
    "\n",
    "\n",
    "def linha(n, largura, sep=' '):\n",
    "    return centraliza(texto(intervalo(n)), largura, sep)\n",
    "\n",
    "\n",
    "def losango(n, separador=' '):\n",
    "    largura = n * 2 + 1\n",
    "\n",
    "    return '\\n'.join(linha(n, largura, separador) for n in intervalo(n))\n",
    "\n",
    "\n",
    "assert centraliza('0', largura=5) == '  0  '\n",
    "assert centraliza('010', largura=5) == ' 010 '\n",
    "assert centraliza('01210', largura=5) == '01210'\n",
    "\n",
    "assert intervalo(0) == (0,)\n",
    "assert intervalo(1) == (0, 1, 0)\n",
    "assert intervalo(2) == (0, 1, 2, 1, 0)\n",
    "assert intervalo(9) == (0, 1, 2, 3, 4, 5, 6, 7, 8, 9, 8, 7, 6, 5, 4, 3, 2, 1, 0)\n",
    "\n",
    "assert texto(intervalo(2)) == '01210'\n",
    "\n",
    "assert linha(3, largura=7) == '0123210'\n",
    "assert linha(0, largura=7) == '   0   '\n",
    "\n",
    "assert losango(2) == (\n",
    "    '  0  \\n'\n",
    "    ' 010 \\n'\n",
    "    '01210\\n'\n",
    "    ' 010 \\n'\n",
    "    '  0  '\n",
    ")\n"
   ]
  },
  {
   "cell_type": "code",
   "execution_count": 11,
   "metadata": {
    "slideshow": {
     "slide_type": "fragment"
    }
   },
   "outputs": [
    {
     "data": {
      "application/vnd.jupyter.widget-view+json": {
       "model_id": "e528a851c083472a8820d73eeb44795e",
       "version_major": 2,
       "version_minor": 0
      },
      "text/plain": [
       "interactive(children=(IntSlider(value=4, description='n', max=9), Text(value=' ', description='sep'), Output()…"
      ]
     },
     "metadata": {},
     "output_type": "display_data"
    },
    {
     "data": {
      "text/plain": [
       "<function __main__.<lambda>(n, sep)>"
      ]
     },
     "execution_count": 11,
     "metadata": {},
     "output_type": "execute_result"
    }
   ],
   "source": [
    "interact(lambda n, sep: print(losango(n, sep)), n=(0, 9, 1), sep=' ')"
   ]
  }
 ],
 "metadata": {
  "celltoolbar": "Slideshow",
  "kernelspec": {
   "display_name": "Python 3",
   "language": "python",
   "name": "python3"
  },
  "language_info": {
   "codemirror_mode": {
    "name": "ipython",
    "version": 3
   },
   "file_extension": ".py",
   "mimetype": "text/x-python",
   "name": "python",
   "nbconvert_exporter": "python",
   "pygments_lexer": "ipython3",
   "version": "3.7.1"
  }
 },
 "nbformat": 4,
 "nbformat_minor": 2
}
