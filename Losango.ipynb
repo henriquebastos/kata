{
 "cells": [
  {
   "cell_type": "markdown",
   "metadata": {
    "slideshow": {
     "slide_type": "skip"
    }
   },
   "source": [
    "# Losango\n",
    "\n",
    "## Autor\n",
    "\n",
    "[Henrique  Bastos](https://henriquebastos.net)\n",
    "\n",
    "\n",
    "\n",
    "Se conecte comigo nas redes:\n",
    "[YouTube](https://hbn.link/youtube_HB), [Facebook](https://hbn.link/fanpage_HB), [Twitter](https://hbn.link/twitter_HB), [Instagram](https://hbn.link/instagram_HB), [Whatsapp](https://hbn.link/hb-ajudae), [Telegram](https://t.me/henriquebastos), [Email](mailto:henrique@bastos.net)\n",
    "\n",
    "Assista à live demonstrando a construção desse código:\n",
    "\n",
    "[![Kata #1](https://img.youtube.com/vi/eP1RCj8_ChE/maxresdefault.jpg)](https://www.youtube.com/watch?v=eP1RCj8_ChE)\n",
    "\n",
    "\n",
    "## Licença\n",
    "\n",
    "<img alt=\"Licença Creative Commons\" style=\"border-width:0; margin-left:0;\" src=\"https://i.creativecommons.org/l/by-sa/4.0/88x31.png\" />\n",
    "\n",
    "Este trabalho está licenciado com uma Licença [Creative Commons - Atribuição-CompartilhaIgual 4.0 Internacional](http://creativecommons.org/licenses/by-sa/4.0/)."
   ]
  },
  {
   "cell_type": "code",
   "execution_count": null,
   "metadata": {
    "slideshow": {
     "slide_type": "skip"
    }
   },
   "outputs": [],
   "source": [
    "# setup\n",
    "from ipywidgets import interact"
   ]
  },
  {
   "cell_type": "markdown",
   "metadata": {
    "slideshow": {
     "slide_type": "slide"
    }
   },
   "source": [
    "# Introdução\n",
    "\n",
    "O André Bandeli postou uma dúvida no Facebook sobre [como construir um losango em texto](https://www.facebook.com/groups/python.brasil/permalink/1859488167489378/).\n",
    "\n",
    "Exemplo:\n",
    "\n",
    "```\n",
    "    0    \n",
    "   010   \n",
    "  01210  \n",
    " 0123210 \n",
    "012343210\n",
    " 0123210 \n",
    "  01210  \n",
    "   010   \n",
    "    0    \n",
    "```\n",
    "\n",
    "A dúvida dele era sobre como centralizar o `range` do Python para calcular cada linha."
   ]
  },
  {
   "cell_type": "markdown",
   "metadata": {
    "slideshow": {
     "slide_type": "slide"
    }
   },
   "source": [
    "# O Problema\n",
    "\n",
    "Esse desafio é o caso clássico onde ir direto no alvo é mais difícil do que comer pelas beiradas.\n",
    "\n",
    "```\n",
    "  0  \n",
    " 010 \n",
    "01210\n",
    " 010 \n",
    "  0   \n",
    "```"
   ]
  },
  {
   "cell_type": "markdown",
   "metadata": {
    "slideshow": {
     "slide_type": "fragment"
    }
   },
   "source": [
    "1. Ir direto vai fazer focar no output se perdendo em loops e manipulações de strings.\n",
    "2. Comer pelas beiradas implica em decompor o problema em problemas menores."
   ]
  },
  {
   "cell_type": "markdown",
   "metadata": {
    "slideshow": {
     "slide_type": "slide"
    }
   },
   "source": [
    "# Qual a estratégia?\n",
    "\n",
    "```\n",
    "..0..\n",
    ".010.\n",
    "01210\n",
    ".010.\n",
    "..0..\n",
    "```"
   ]
  },
  {
   "cell_type": "markdown",
   "metadata": {
    "slideshow": {
     "slide_type": "fragment"
    }
   },
   "source": [
    "1. Como centraliza os números na linha?\n",
    "2. Como cria o intervalo de 0...N...0?\n",
    "3. Como transforma o intervalo em texto?\n",
    "4. Como gera a linha a partir do intervalo?\n",
    "5. Como gera o losango com uma pilha de linhas?"
   ]
  },
  {
   "cell_type": "markdown",
   "metadata": {
    "slideshow": {
     "slide_type": "slide"
    }
   },
   "source": [
    "# Como centraliza os números?\n",
    "\n",
    "```\n",
    "..0..\n",
    ".010.\n",
    "01210\n",
    ".010.\n",
    "..0..\n",
    "```"
   ]
  },
  {
   "cell_type": "code",
   "execution_count": null,
   "metadata": {
    "slideshow": {
     "slide_type": "skip"
    }
   },
   "outputs": [],
   "source": [
    "def centraliza(texto, largura):\n",
    "    '''Versão 1'''\n",
    "    margem = (largura - len(texto)) // 2\n",
    "    return ' ' * margem + texto + ' ' * margem\n",
    "\n",
    "\n",
    "def centraliza(texto, largura):\n",
    "    '''Versão 2'''\n",
    "    return texto.center(largura)\n",
    "\n",
    "\n",
    "def centraliza(texto, largura, separador=' '):\n",
    "    '''Versão 3'''\n",
    "    return f'{texto:{separador}^{largura}}'\n",
    "\n",
    "\n",
    "n = 2\n",
    "largura = n * 2 + 1\n",
    "assert centraliza('0', largura) == '  0  '\n",
    "assert centraliza('010', largura) == ' 010 '\n",
    "assert centraliza('01210', largura) == '01210'"
   ]
  },
  {
   "cell_type": "markdown",
   "metadata": {
    "slideshow": {
     "slide_type": "slide"
    }
   },
   "source": [
    "# Como cria o intervalo de 0...N...0?\n",
    "\n",
    "```\n",
    "..0..\n",
    ".010.\n",
    "01210\n",
    ".010.\n",
    "..0..\n",
    "```"
   ]
  },
  {
   "cell_type": "code",
   "execution_count": null,
   "metadata": {
    "slideshow": {
     "slide_type": "skip"
    }
   },
   "outputs": [],
   "source": [
    "def intervalo(n):\n",
    "    '''Versão 1'''\n",
    "    return list(range(n)) + list(range(n, -1, -1))\n",
    "\n",
    "\n",
    "def intervalo(n):\n",
    "    '''Versão 2'''\n",
    "    return [*range(n), *range(n, -1, -1)]\n",
    "\n",
    "assert intervalo(0) == [0]\n",
    "assert intervalo(1) == [0, 1, 0]\n",
    "assert intervalo(2) == [0, 1, 2, 1, 0]\n",
    "assert intervalo(9) == [0, 1, 2, 3, 4, 5, 6, 7, 8, 9, 8, 7, 6, 5, 4, 3, 2, 1, 0]\n",
    "\n",
    "\n",
    "list(range(0)) == []\n",
    "list(range(1)) == [0]\n",
    "list(range(2)) == [0, 1]"
   ]
  },
  {
   "cell_type": "markdown",
   "metadata": {
    "slideshow": {
     "slide_type": "slide"
    }
   },
   "source": [
    "# Como transforma o intervalo em texto?\n",
    "\n",
    "```\n",
    "..0..\n",
    ".010.\n",
    "01210\n",
    ".010.\n",
    "..0..\n",
    "```"
   ]
  },
  {
   "cell_type": "code",
   "execution_count": null,
   "metadata": {
    "slideshow": {
     "slide_type": "skip"
    }
   },
   "outputs": [],
   "source": [
    "def texto(numeros):\n",
    "    '''Versão 1'''\n",
    "    l = []\n",
    "    for n in numeros:\n",
    "        l.append(str(n))\n",
    "    return ''.join(l)\n",
    "\n",
    "\n",
    "def texto(numeros):\n",
    "    '''Versão 2'''\n",
    "    return ''.join(str(n) for n in numeros)\n",
    "\n",
    "\n",
    "assert texto(intervalo(2)) == '01210'\n"
   ]
  },
  {
   "cell_type": "markdown",
   "metadata": {
    "slideshow": {
     "slide_type": "slide"
    }
   },
   "source": [
    "# Como gera a linha em texto a partir do intervalo?\n",
    "\n",
    "```\n",
    "..0..\n",
    ".010.\n",
    "01210\n",
    ".010.\n",
    "..0..\n",
    "```"
   ]
  },
  {
   "cell_type": "code",
   "execution_count": null,
   "metadata": {
    "slideshow": {
     "slide_type": "-"
    }
   },
   "outputs": [],
   "source": [
    "def linha(n, largura, separador=' '):\n",
    "    return centraliza(texto(intervalo(n)), largura, separador)\n",
    "\n",
    "assert linha(0, 5) == '  0  '\n",
    "assert linha(3, 7) == '0123210'"
   ]
  },
  {
   "cell_type": "code",
   "execution_count": null,
   "metadata": {
    "slideshow": {
     "slide_type": "-"
    }
   },
   "outputs": [],
   "source": [
    "interact(linha, n=(0, 9, 1), largura=(0, 9*2+1, 1))"
   ]
  },
  {
   "cell_type": "markdown",
   "metadata": {
    "slideshow": {
     "slide_type": "slide"
    }
   },
   "source": [
    "# Como cria a pilha de linhas?\n",
    "\n",
    "```\n",
    "..0..\n",
    ".010.\n",
    "01210\n",
    ".010.\n",
    "..0..\n",
    "```"
   ]
  },
  {
   "cell_type": "code",
   "execution_count": null,
   "metadata": {
    "slideshow": {
     "slide_type": "skip"
    }
   },
   "outputs": [],
   "source": [
    "def losango(n):\n",
    "    '''Versão 1'''\n",
    "    largura = n * 2 + 1\n",
    "\n",
    "    numeros = intervalo(n)\n",
    "    linhas = []\n",
    "    \n",
    "    for n in numeros:\n",
    "        linhas.append(linha(n, largura))\n",
    "\n",
    "    print('\\n'.join(linhas))\n",
    "\n",
    "\n",
    "def losango(n):\n",
    "    '''Versão 2'''\n",
    "    largura = n * 2 + 1\n",
    "    return '\\n'.join([linha(n, largura) for n in intervalo(n)])\n",
    "\n",
    "def losango(tamanho):\n",
    "    '''Versão 3'''\n",
    "    largura = tamanho * 2 + 1\n",
    "    return '\\n'.join(linha(n, largura) for n in intervalo(tamanho))\n",
    "\n",
    "\n",
    "assert losango(2) == (\n",
    "    '  0  \\n'\n",
    "    ' 010 \\n'\n",
    "    '01210\\n'\n",
    "    ' 010 \\n'\n",
    "    '  0  '\n",
    ")\n",
    "\n",
    "interact(lambda n: print(losango(n)), n=(0, 9, 1))"
   ]
  },
  {
   "cell_type": "markdown",
   "metadata": {
    "slideshow": {
     "slide_type": "slide"
    }
   },
   "source": [
    "# Como fica tudo junto?"
   ]
  },
  {
   "cell_type": "code",
   "execution_count": null,
   "metadata": {
    "slideshow": {
     "slide_type": "-"
    }
   },
   "outputs": [],
   "source": [
    "def intervalo(n):\n",
    "    return (*range(n), *range(n, -1, -1))\n",
    "\n",
    "\n",
    "def centraliza(texto, largura, separador=' '):\n",
    "    return f'{texto:{separador}^{largura}}'\n",
    "\n",
    "\n",
    "def texto(numeros):\n",
    "    return ''.join(str(n) for n in numeros)\n",
    "\n",
    "\n",
    "def linha(n, largura, sep=' '):\n",
    "    return centraliza(texto(intervalo(n)), largura, sep)\n",
    "\n",
    "\n",
    "def losango(n, separador=' '):\n",
    "    largura = n * 2 + 1\n",
    "\n",
    "    return '\\n'.join(linha(n, largura, separador) for n in intervalo(n))\n",
    "\n",
    "\n",
    "assert centraliza('0', largura=5) == '  0  '\n",
    "assert centraliza('010', largura=5) == ' 010 '\n",
    "assert centraliza('01210', largura=5) == '01210'\n",
    "\n",
    "assert intervalo(0) == (0,)\n",
    "assert intervalo(1) == (0, 1, 0)\n",
    "assert intervalo(2) == (0, 1, 2, 1, 0)\n",
    "assert intervalo(9) == (0, 1, 2, 3, 4, 5, 6, 7, 8, 9, 8, 7, 6, 5, 4, 3, 2, 1, 0)\n",
    "\n",
    "assert texto(intervalo(2)) == '01210'\n",
    "\n",
    "assert linha(3, largura=7) == '0123210'\n",
    "assert linha(0, largura=7) == '   0   '\n",
    "\n",
    "assert losango(2) == (\n",
    "    '  0  \\n'\n",
    "    ' 010 \\n'\n",
    "    '01210\\n'\n",
    "    ' 010 \\n'\n",
    "    '  0  '\n",
    ")\n"
   ]
  },
  {
   "cell_type": "code",
   "execution_count": null,
   "metadata": {
    "slideshow": {
     "slide_type": "fragment"
    }
   },
   "outputs": [],
   "source": [
    "interact(lambda n, sep: print(losango(n, sep)), n=(0, 9, 1), sep=' ')"
   ]
  }
 ],
 "metadata": {
  "celltoolbar": "Slideshow",
  "kernelspec": {
   "display_name": "Python 3",
   "language": "python",
   "name": "python3"
  },
  "language_info": {
   "codemirror_mode": {
    "name": "ipython",
    "version": 3
   },
   "file_extension": ".py",
   "mimetype": "text/x-python",
   "name": "python",
   "nbconvert_exporter": "python",
   "pygments_lexer": "ipython3",
   "version": "3.7.1"
  }
 },
 "nbformat": 4,
 "nbformat_minor": 2
}
